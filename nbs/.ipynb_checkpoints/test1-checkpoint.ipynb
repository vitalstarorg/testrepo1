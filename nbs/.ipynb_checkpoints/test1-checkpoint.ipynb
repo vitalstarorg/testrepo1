{
 "cells": [
  {
   "cell_type": "code",
   "execution_count": null,
   "id": "1e18fa2f-bd6d-48ba-9251-14994cc2c820",
   "metadata": {},
   "outputs": [],
   "source": []
  }
 ],
 "metadata": {
  "kernelspec": {
   "display_name": "rd_tf3",
   "language": "python",
   "name": "rd_tf3"
  },
  "language_info": {
   "codemirror_mode": {
    "name": "ipython",
    "version": 3
   },
   "file_extension": ".py",
   "mimetype": "text/x-python",
   "name": "python",
   "nbconvert_exporter": "python",
   "pygments_lexer": "ipython3",
   "version": "3.9.19"
  }
 },
 "nbformat": 4,
 "nbformat_minor": 5
}
