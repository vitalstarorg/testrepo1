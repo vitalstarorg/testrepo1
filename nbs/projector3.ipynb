{
 "cells": [
  {
   "cell_type": "code",
   "execution_count": 1,
   "id": "3a08cbf7-b0b9-456d-bdf7-5f9f2deb6272",
   "metadata": {},
   "outputs": [],
   "source": [
    "%load_ext ipython_unittest\n",
    "%load_ext autoreload\n",
    "%autoreload 2\n",
    "import sys\n",
    "import os\n",
    "sys.path.append('..')\n",
    "sys.stderr = open('/dev/null', 'w')\n",
    "# os.getcwd(); os.listdir()\n",
    "\n",
    "# import plotly.offline as pyo\n",
    "# pyo.init_notebook_mode(connected=True)\n",
    "\n",
    "import pandas as pd\n",
    "pd.set_option('display.max_columns', None)  # Show all columns\n",
    "pd.set_option('display.expand_frame_repr', False)  # Prevent wrapping of dataframes\n",
    "pd.set_option('display.width', 1000)  # Set the display width to a large value\n",
    "\n",
    "import torch\n",
    "import lovely_tensors as lt\n",
    "lt.monkey_patch()\n",
    "import ipywidgets as widgets\n"
   ]
  },
  {
   "cell_type": "code",
   "execution_count": 2,
   "id": "7d212dae-cf82-4c6d-87ab-44794b65e89e",
   "metadata": {},
   "outputs": [],
   "source": [
    "from projector.Projector import Projector, View\n",
    "from projector.operator.GPT2Operator import GPT2Operator\n",
    "from projector.operator.GPT2OperatorNP import GPT2OperatorNP\n",
    "from smallscript import *\n",
    "sscontext.loadPackage('projector');"
   ]
  },
  {
   "cell_type": "code",
   "execution_count": 3,
   "id": "b4dc5018-b501-46b4-8722-f9a1770a8788",
   "metadata": {},
   "outputs": [],
   "source": [
    "model = GPT2Operator().name(\"gpt2\").loadModel()\n",
    "pj = Projector().name('projector').model(model)\n",
    "pj.saveFile()\n",
    "pj.loadFile();"
   ]
  },
  {
   "cell_type": "code",
   "execution_count": 132,
   "id": "b9437d2a-2370-4a28-aa9c-02657d8a5f2b",
   "metadata": {},
   "outputs": [
    {
     "data": {
      "application/vnd.plotly.v1+json": {
       "config": {
        "plotlyServerURL": "https://plot.ly"
       },
       "data": [
        {
         "colorscale": [
          [
           0,
           "rgb(250, 0, 135)"
          ],
          [
           0.04,
           "rgb(251, 228, 38)"
          ],
          [
           0.08,
           "rgb(176, 0, 104)"
          ],
          [
           0.12,
           "rgb(252, 28, 191)"
          ],
          [
           0.16,
           "rgb(192, 117, 166)"
          ],
          [
           0.2,
           "rgb(177, 13, 161)"
          ],
          [
           0.24,
           "rgb(46, 217, 255)"
          ],
          [
           0.28,
           "rgb(28, 255, 206)"
          ],
          [
           0.32,
           "rgb(246, 34, 46)"
          ],
          [
           0.36,
           "rgb(144, 173, 28)"
          ],
          [
           0.4,
           "rgb(248, 161, 159)"
          ],
          [
           0.44,
           "rgb(254, 175, 22)"
          ],
          [
           0.48,
           "rgb(50, 90, 155)"
          ],
          [
           0.52,
           "rgb(254, 0, 250)"
          ],
          [
           0.56,
           "rgb(222, 160, 253)"
          ],
          [
           0.6,
           "rgb(196, 69, 28)"
          ],
          [
           0.64,
           "rgb(28, 190, 79)"
          ],
          [
           0.68,
           "rgb(226, 226, 226)"
          ],
          [
           0.72,
           "rgb(247, 225, 160)"
          ],
          [
           0.76,
           "rgb(22, 255, 50)"
          ],
          [
           0.8,
           "rgb(28, 131, 86)"
          ],
          [
           0.84,
           "rgb(86, 86, 86)"
          ],
          [
           0.88,
           "rgb(120, 42, 182)"
          ],
          [
           0.92,
           "rgb(133, 102, 13)"
          ],
          [
           0.96,
           "rgb(50, 131, 254)"
          ],
          [
           1,
           "rgb(170, 13, 254)"
          ]
         ],
         "hovertemplate": "%{hovertext}",
         "hovertext": [
          [
           "#FA0087",
           "#FBE426",
           "#B00068",
           "#FC1CBF",
           "#C075A6",
           "#B10DA1",
           "#2ED9FF",
           "#1CFFCE",
           "#F6222E",
           "#90AD1C",
           "#F8A19F",
           "#FEAF16",
           "#325A9B",
           "#FE00FA",
           "#DEA0FD",
           "#C4451C",
           "#1CBE4F",
           "#E2E2E2",
           "#F7E1A0",
           "#16FF32",
           "#1C8356",
           "#565656",
           "#782AB6",
           "#85660D",
           "#3283FE",
           "#AA0DFE"
          ]
         ],
         "opacity": 0.9,
         "showscale": false,
         "text": [
          [
           "0",
           "1",
           "2",
           "3",
           "4",
           "5",
           "6",
           "7",
           "8",
           "9",
           "10",
           "11",
           "12",
           "13",
           "14",
           "15",
           "16",
           "17",
           "18",
           "19",
           "20",
           "21",
           "22",
           "23",
           "24",
           "25"
          ]
         ],
         "texttemplate": "%{text}",
         "type": "heatmap",
         "z": [
          [
           0,
           1,
           2,
           3,
           4,
           5,
           6,
           7,
           8,
           9,
           10,
           11,
           12,
           13,
           14,
           15,
           16,
           17,
           18,
           19,
           20,
           21,
           22,
           23,
           24,
           25
          ]
         ]
        }
       ],
       "layout": {
        "height": 30,
        "margin": {
         "b": 0,
         "l": 0,
         "r": 0,
         "t": 0
        },
        "modebar": {
         "remove": [
          "zoom",
          "zoomin",
          "zoomout",
          "pan",
          "reset",
          "autoscale",
          "resetscale",
          "toImage"
         ]
        },
        "template": {
         "data": {
          "bar": [
           {
            "error_x": {
             "color": "#2a3f5f"
            },
            "error_y": {
             "color": "#2a3f5f"
            },
            "marker": {
             "line": {
              "color": "#E5ECF6",
              "width": 0.5
             },
             "pattern": {
              "fillmode": "overlay",
              "size": 10,
              "solidity": 0.2
             }
            },
            "type": "bar"
           }
          ],
          "barpolar": [
           {
            "marker": {
             "line": {
              "color": "#E5ECF6",
              "width": 0.5
             },
             "pattern": {
              "fillmode": "overlay",
              "size": 10,
              "solidity": 0.2
             }
            },
            "type": "barpolar"
           }
          ],
          "carpet": [
           {
            "aaxis": {
             "endlinecolor": "#2a3f5f",
             "gridcolor": "white",
             "linecolor": "white",
             "minorgridcolor": "white",
             "startlinecolor": "#2a3f5f"
            },
            "baxis": {
             "endlinecolor": "#2a3f5f",
             "gridcolor": "white",
             "linecolor": "white",
             "minorgridcolor": "white",
             "startlinecolor": "#2a3f5f"
            },
            "type": "carpet"
           }
          ],
          "choropleth": [
           {
            "colorbar": {
             "outlinewidth": 0,
             "ticks": ""
            },
            "type": "choropleth"
           }
          ],
          "contour": [
           {
            "colorbar": {
             "outlinewidth": 0,
             "ticks": ""
            },
            "colorscale": [
             [
              0,
              "#0d0887"
             ],
             [
              0.1111111111111111,
              "#46039f"
             ],
             [
              0.2222222222222222,
              "#7201a8"
             ],
             [
              0.3333333333333333,
              "#9c179e"
             ],
             [
              0.4444444444444444,
              "#bd3786"
             ],
             [
              0.5555555555555556,
              "#d8576b"
             ],
             [
              0.6666666666666666,
              "#ed7953"
             ],
             [
              0.7777777777777778,
              "#fb9f3a"
             ],
             [
              0.8888888888888888,
              "#fdca26"
             ],
             [
              1,
              "#f0f921"
             ]
            ],
            "type": "contour"
           }
          ],
          "contourcarpet": [
           {
            "colorbar": {
             "outlinewidth": 0,
             "ticks": ""
            },
            "type": "contourcarpet"
           }
          ],
          "heatmap": [
           {
            "colorbar": {
             "outlinewidth": 0,
             "ticks": ""
            },
            "colorscale": [
             [
              0,
              "#0d0887"
             ],
             [
              0.1111111111111111,
              "#46039f"
             ],
             [
              0.2222222222222222,
              "#7201a8"
             ],
             [
              0.3333333333333333,
              "#9c179e"
             ],
             [
              0.4444444444444444,
              "#bd3786"
             ],
             [
              0.5555555555555556,
              "#d8576b"
             ],
             [
              0.6666666666666666,
              "#ed7953"
             ],
             [
              0.7777777777777778,
              "#fb9f3a"
             ],
             [
              0.8888888888888888,
              "#fdca26"
             ],
             [
              1,
              "#f0f921"
             ]
            ],
            "type": "heatmap"
           }
          ],
          "heatmapgl": [
           {
            "colorbar": {
             "outlinewidth": 0,
             "ticks": ""
            },
            "colorscale": [
             [
              0,
              "#0d0887"
             ],
             [
              0.1111111111111111,
              "#46039f"
             ],
             [
              0.2222222222222222,
              "#7201a8"
             ],
             [
              0.3333333333333333,
              "#9c179e"
             ],
             [
              0.4444444444444444,
              "#bd3786"
             ],
             [
              0.5555555555555556,
              "#d8576b"
             ],
             [
              0.6666666666666666,
              "#ed7953"
             ],
             [
              0.7777777777777778,
              "#fb9f3a"
             ],
             [
              0.8888888888888888,
              "#fdca26"
             ],
             [
              1,
              "#f0f921"
             ]
            ],
            "type": "heatmapgl"
           }
          ],
          "histogram": [
           {
            "marker": {
             "pattern": {
              "fillmode": "overlay",
              "size": 10,
              "solidity": 0.2
             }
            },
            "type": "histogram"
           }
          ],
          "histogram2d": [
           {
            "colorbar": {
             "outlinewidth": 0,
             "ticks": ""
            },
            "colorscale": [
             [
              0,
              "#0d0887"
             ],
             [
              0.1111111111111111,
              "#46039f"
             ],
             [
              0.2222222222222222,
              "#7201a8"
             ],
             [
              0.3333333333333333,
              "#9c179e"
             ],
             [
              0.4444444444444444,
              "#bd3786"
             ],
             [
              0.5555555555555556,
              "#d8576b"
             ],
             [
              0.6666666666666666,
              "#ed7953"
             ],
             [
              0.7777777777777778,
              "#fb9f3a"
             ],
             [
              0.8888888888888888,
              "#fdca26"
             ],
             [
              1,
              "#f0f921"
             ]
            ],
            "type": "histogram2d"
           }
          ],
          "histogram2dcontour": [
           {
            "colorbar": {
             "outlinewidth": 0,
             "ticks": ""
            },
            "colorscale": [
             [
              0,
              "#0d0887"
             ],
             [
              0.1111111111111111,
              "#46039f"
             ],
             [
              0.2222222222222222,
              "#7201a8"
             ],
             [
              0.3333333333333333,
              "#9c179e"
             ],
             [
              0.4444444444444444,
              "#bd3786"
             ],
             [
              0.5555555555555556,
              "#d8576b"
             ],
             [
              0.6666666666666666,
              "#ed7953"
             ],
             [
              0.7777777777777778,
              "#fb9f3a"
             ],
             [
              0.8888888888888888,
              "#fdca26"
             ],
             [
              1,
              "#f0f921"
             ]
            ],
            "type": "histogram2dcontour"
           }
          ],
          "mesh3d": [
           {
            "colorbar": {
             "outlinewidth": 0,
             "ticks": ""
            },
            "type": "mesh3d"
           }
          ],
          "parcoords": [
           {
            "line": {
             "colorbar": {
              "outlinewidth": 0,
              "ticks": ""
             }
            },
            "type": "parcoords"
           }
          ],
          "pie": [
           {
            "automargin": true,
            "type": "pie"
           }
          ],
          "scatter": [
           {
            "fillpattern": {
             "fillmode": "overlay",
             "size": 10,
             "solidity": 0.2
            },
            "type": "scatter"
           }
          ],
          "scatter3d": [
           {
            "line": {
             "colorbar": {
              "outlinewidth": 0,
              "ticks": ""
             }
            },
            "marker": {
             "colorbar": {
              "outlinewidth": 0,
              "ticks": ""
             }
            },
            "type": "scatter3d"
           }
          ],
          "scattercarpet": [
           {
            "marker": {
             "colorbar": {
              "outlinewidth": 0,
              "ticks": ""
             }
            },
            "type": "scattercarpet"
           }
          ],
          "scattergeo": [
           {
            "marker": {
             "colorbar": {
              "outlinewidth": 0,
              "ticks": ""
             }
            },
            "type": "scattergeo"
           }
          ],
          "scattergl": [
           {
            "marker": {
             "colorbar": {
              "outlinewidth": 0,
              "ticks": ""
             }
            },
            "type": "scattergl"
           }
          ],
          "scattermapbox": [
           {
            "marker": {
             "colorbar": {
              "outlinewidth": 0,
              "ticks": ""
             }
            },
            "type": "scattermapbox"
           }
          ],
          "scatterpolar": [
           {
            "marker": {
             "colorbar": {
              "outlinewidth": 0,
              "ticks": ""
             }
            },
            "type": "scatterpolar"
           }
          ],
          "scatterpolargl": [
           {
            "marker": {
             "colorbar": {
              "outlinewidth": 0,
              "ticks": ""
             }
            },
            "type": "scatterpolargl"
           }
          ],
          "scatterternary": [
           {
            "marker": {
             "colorbar": {
              "outlinewidth": 0,
              "ticks": ""
             }
            },
            "type": "scatterternary"
           }
          ],
          "surface": [
           {
            "colorbar": {
             "outlinewidth": 0,
             "ticks": ""
            },
            "colorscale": [
             [
              0,
              "#0d0887"
             ],
             [
              0.1111111111111111,
              "#46039f"
             ],
             [
              0.2222222222222222,
              "#7201a8"
             ],
             [
              0.3333333333333333,
              "#9c179e"
             ],
             [
              0.4444444444444444,
              "#bd3786"
             ],
             [
              0.5555555555555556,
              "#d8576b"
             ],
             [
              0.6666666666666666,
              "#ed7953"
             ],
             [
              0.7777777777777778,
              "#fb9f3a"
             ],
             [
              0.8888888888888888,
              "#fdca26"
             ],
             [
              1,
              "#f0f921"
             ]
            ],
            "type": "surface"
           }
          ],
          "table": [
           {
            "cells": {
             "fill": {
              "color": "#EBF0F8"
             },
             "line": {
              "color": "white"
             }
            },
            "header": {
             "fill": {
              "color": "#C8D4E3"
             },
             "line": {
              "color": "white"
             }
            },
            "type": "table"
           }
          ]
         },
         "layout": {
          "annotationdefaults": {
           "arrowcolor": "#2a3f5f",
           "arrowhead": 0,
           "arrowwidth": 1
          },
          "autotypenumbers": "strict",
          "coloraxis": {
           "colorbar": {
            "outlinewidth": 0,
            "ticks": ""
           }
          },
          "colorscale": {
           "diverging": [
            [
             0,
             "#8e0152"
            ],
            [
             0.1,
             "#c51b7d"
            ],
            [
             0.2,
             "#de77ae"
            ],
            [
             0.3,
             "#f1b6da"
            ],
            [
             0.4,
             "#fde0ef"
            ],
            [
             0.5,
             "#f7f7f7"
            ],
            [
             0.6,
             "#e6f5d0"
            ],
            [
             0.7,
             "#b8e186"
            ],
            [
             0.8,
             "#7fbc41"
            ],
            [
             0.9,
             "#4d9221"
            ],
            [
             1,
             "#276419"
            ]
           ],
           "sequential": [
            [
             0,
             "#0d0887"
            ],
            [
             0.1111111111111111,
             "#46039f"
            ],
            [
             0.2222222222222222,
             "#7201a8"
            ],
            [
             0.3333333333333333,
             "#9c179e"
            ],
            [
             0.4444444444444444,
             "#bd3786"
            ],
            [
             0.5555555555555556,
             "#d8576b"
            ],
            [
             0.6666666666666666,
             "#ed7953"
            ],
            [
             0.7777777777777778,
             "#fb9f3a"
            ],
            [
             0.8888888888888888,
             "#fdca26"
            ],
            [
             1,
             "#f0f921"
            ]
           ],
           "sequentialminus": [
            [
             0,
             "#0d0887"
            ],
            [
             0.1111111111111111,
             "#46039f"
            ],
            [
             0.2222222222222222,
             "#7201a8"
            ],
            [
             0.3333333333333333,
             "#9c179e"
            ],
            [
             0.4444444444444444,
             "#bd3786"
            ],
            [
             0.5555555555555556,
             "#d8576b"
            ],
            [
             0.6666666666666666,
             "#ed7953"
            ],
            [
             0.7777777777777778,
             "#fb9f3a"
            ],
            [
             0.8888888888888888,
             "#fdca26"
            ],
            [
             1,
             "#f0f921"
            ]
           ]
          },
          "colorway": [
           "#636efa",
           "#EF553B",
           "#00cc96",
           "#ab63fa",
           "#FFA15A",
           "#19d3f3",
           "#FF6692",
           "#B6E880",
           "#FF97FF",
           "#FECB52"
          ],
          "font": {
           "color": "#2a3f5f"
          },
          "geo": {
           "bgcolor": "white",
           "lakecolor": "white",
           "landcolor": "#E5ECF6",
           "showlakes": true,
           "showland": true,
           "subunitcolor": "white"
          },
          "hoverlabel": {
           "align": "left"
          },
          "hovermode": "closest",
          "mapbox": {
           "style": "light"
          },
          "paper_bgcolor": "white",
          "plot_bgcolor": "#E5ECF6",
          "polar": {
           "angularaxis": {
            "gridcolor": "white",
            "linecolor": "white",
            "ticks": ""
           },
           "bgcolor": "#E5ECF6",
           "radialaxis": {
            "gridcolor": "white",
            "linecolor": "white",
            "ticks": ""
           }
          },
          "scene": {
           "xaxis": {
            "backgroundcolor": "#E5ECF6",
            "gridcolor": "white",
            "gridwidth": 2,
            "linecolor": "white",
            "showbackground": true,
            "ticks": "",
            "zerolinecolor": "white"
           },
           "yaxis": {
            "backgroundcolor": "#E5ECF6",
            "gridcolor": "white",
            "gridwidth": 2,
            "linecolor": "white",
            "showbackground": true,
            "ticks": "",
            "zerolinecolor": "white"
           },
           "zaxis": {
            "backgroundcolor": "#E5ECF6",
            "gridcolor": "white",
            "gridwidth": 2,
            "linecolor": "white",
            "showbackground": true,
            "ticks": "",
            "zerolinecolor": "white"
           }
          },
          "shapedefaults": {
           "line": {
            "color": "#2a3f5f"
           }
          },
          "ternary": {
           "aaxis": {
            "gridcolor": "white",
            "linecolor": "white",
            "ticks": ""
           },
           "baxis": {
            "gridcolor": "white",
            "linecolor": "white",
            "ticks": ""
           },
           "bgcolor": "#E5ECF6",
           "caxis": {
            "gridcolor": "white",
            "linecolor": "white",
            "ticks": ""
           }
          },
          "title": {
           "x": 0.05
          },
          "xaxis": {
           "automargin": true,
           "gridcolor": "white",
           "linecolor": "white",
           "ticks": "",
           "title": {
            "standoff": 15
           },
           "zerolinecolor": "white",
           "zerolinewidth": 2
          },
          "yaxis": {
           "automargin": true,
           "gridcolor": "white",
           "linecolor": "white",
           "ticks": "",
           "title": {
            "standoff": 15
           },
           "zerolinecolor": "white",
           "zerolinewidth": 2
          }
         }
        },
        "width": 800,
        "xaxis": {
         "autorange": true,
         "range": [
          -0.5,
          25.5
         ],
         "showticklabels": false
        },
        "yaxis": {
         "autorange": true,
         "range": [
          0.5,
          -0.5
         ],
         "showticklabels": false
        }
       }
      },
      "image/png": "[encoded data removed]",
      "text/html": [
       "<div>                            <div id=\"81b3f1d6-3f34-4d1f-9379-aa536d2b41cd\" class=\"plotly-graph-div\" style=\"height:30px; width:800px;\"></div>            <script type=\"text/javascript\">                require([\"plotly\"], function(Plotly) {                    window.PLOTLYENV=window.PLOTLYENV || {};                                    if (document.getElementById(\"81b3f1d6-3f34-4d1f-9379-aa536d2b41cd\")) {                    Plotly.newPlot(                        \"81b3f1d6-3f34-4d1f-9379-aa536d2b41cd\",                        [{\"colorscale\":[[0.0,\"rgb(250, 0, 135)\"],[0.04,\"rgb(251, 228, 38)\"],[0.08,\"rgb(176, 0, 104)\"],[0.12,\"rgb(252, 28, 191)\"],[0.16,\"rgb(192, 117, 166)\"],[0.2,\"rgb(177, 13, 161)\"],[0.24,\"rgb(46, 217, 255)\"],[0.28,\"rgb(28, 255, 206)\"],[0.32,\"rgb(246, 34, 46)\"],[0.36,\"rgb(144, 173, 28)\"],[0.4,\"rgb(248, 161, 159)\"],[0.44,\"rgb(254, 175, 22)\"],[0.48,\"rgb(50, 90, 155)\"],[0.52,\"rgb(254, 0, 250)\"],[0.56,\"rgb(222, 160, 253)\"],[0.6,\"rgb(196, 69, 28)\"],[0.64,\"rgb(28, 190, 79)\"],[0.68,\"rgb(226, 226, 226)\"],[0.72,\"rgb(247, 225, 160)\"],[0.76,\"rgb(22, 255, 50)\"],[0.8,\"rgb(28, 131, 86)\"],[0.84,\"rgb(86, 86, 86)\"],[0.88,\"rgb(120, 42, 182)\"],[0.92,\"rgb(133, 102, 13)\"],[0.96,\"rgb(50, 131, 254)\"],[1.0,\"rgb(170, 13, 254)\"]],\"hovertemplate\":\"%{hovertext}\",\"hovertext\":[[\"#FA0087\",\"#FBE426\",\"#B00068\",\"#FC1CBF\",\"#C075A6\",\"#B10DA1\",\"#2ED9FF\",\"#1CFFCE\",\"#F6222E\",\"#90AD1C\",\"#F8A19F\",\"#FEAF16\",\"#325A9B\",\"#FE00FA\",\"#DEA0FD\",\"#C4451C\",\"#1CBE4F\",\"#E2E2E2\",\"#F7E1A0\",\"#16FF32\",\"#1C8356\",\"#565656\",\"#782AB6\",\"#85660D\",\"#3283FE\",\"#AA0DFE\"]],\"opacity\":0.9,\"showscale\":false,\"text\":[[\"0\",\"1\",\"2\",\"3\",\"4\",\"5\",\"6\",\"7\",\"8\",\"9\",\"10\",\"11\",\"12\",\"13\",\"14\",\"15\",\"16\",\"17\",\"18\",\"19\",\"20\",\"21\",\"22\",\"23\",\"24\",\"25\"]],\"texttemplate\":\"%{text}\",\"z\":[[0,1,2,3,4,5,6,7,8,9,10,11,12,13,14,15,16,17,18,19,20,21,22,23,24,25]],\"type\":\"heatmap\"}],                        {\"template\":{\"data\":{\"histogram2dcontour\":[{\"type\":\"histogram2dcontour\",\"colorbar\":{\"outlinewidth\":0,\"ticks\":\"\"},\"colorscale\":[[0.0,\"#0d0887\"],[0.1111111111111111,\"#46039f\"],[0.2222222222222222,\"#7201a8\"],[0.3333333333333333,\"#9c179e\"],[0.4444444444444444,\"#bd3786\"],[0.5555555555555556,\"#d8576b\"],[0.6666666666666666,\"#ed7953\"],[0.7777777777777778,\"#fb9f3a\"],[0.8888888888888888,\"#fdca26\"],[1.0,\"#f0f921\"]]}],\"choropleth\":[{\"type\":\"choropleth\",\"colorbar\":{\"outlinewidth\":0,\"ticks\":\"\"}}],\"histogram2d\":[{\"type\":\"histogram2d\",\"colorbar\":{\"outlinewidth\":0,\"ticks\":\"\"},\"colorscale\":[[0.0,\"#0d0887\"],[0.1111111111111111,\"#46039f\"],[0.2222222222222222,\"#7201a8\"],[0.3333333333333333,\"#9c179e\"],[0.4444444444444444,\"#bd3786\"],[0.5555555555555556,\"#d8576b\"],[0.6666666666666666,\"#ed7953\"],[0.7777777777777778,\"#fb9f3a\"],[0.8888888888888888,\"#fdca26\"],[1.0,\"#f0f921\"]]}],\"heatmap\":[{\"type\":\"heatmap\",\"colorbar\":{\"outlinewidth\":0,\"ticks\":\"\"},\"colorscale\":[[0.0,\"#0d0887\"],[0.1111111111111111,\"#46039f\"],[0.2222222222222222,\"#7201a8\"],[0.3333333333333333,\"#9c179e\"],[0.4444444444444444,\"#bd3786\"],[0.5555555555555556,\"#d8576b\"],[0.6666666666666666,\"#ed7953\"],[0.7777777777777778,\"#fb9f3a\"],[0.8888888888888888,\"#fdca26\"],[1.0,\"#f0f921\"]]}],\"heatmapgl\":[{\"type\":\"heatmapgl\",\"colorbar\":{\"outlinewidth\":0,\"ticks\":\"\"},\"colorscale\":[[0.0,\"#0d0887\"],[0.1111111111111111,\"#46039f\"],[0.2222222222222222,\"#7201a8\"],[0.3333333333333333,\"#9c179e\"],[0.4444444444444444,\"#bd3786\"],[0.5555555555555556,\"#d8576b\"],[0.6666666666666666,\"#ed7953\"],[0.7777777777777778,\"#fb9f3a\"],[0.8888888888888888,\"#fdca26\"],[1.0,\"#f0f921\"]]}],\"contourcarpet\":[{\"type\":\"contourcarpet\",\"colorbar\":{\"outlinewidth\":0,\"ticks\":\"\"}}],\"contour\":[{\"type\":\"contour\",\"colorbar\":{\"outlinewidth\":0,\"ticks\":\"\"},\"colorscale\":[[0.0,\"#0d0887\"],[0.1111111111111111,\"#46039f\"],[0.2222222222222222,\"#7201a8\"],[0.3333333333333333,\"#9c179e\"],[0.4444444444444444,\"#bd3786\"],[0.5555555555555556,\"#d8576b\"],[0.6666666666666666,\"#ed7953\"],[0.7777777777777778,\"#fb9f3a\"],[0.8888888888888888,\"#fdca26\"],[1.0,\"#f0f921\"]]}],\"surface\":[{\"type\":\"surface\",\"colorbar\":{\"outlinewidth\":0,\"ticks\":\"\"},\"colorscale\":[[0.0,\"#0d0887\"],[0.1111111111111111,\"#46039f\"],[0.2222222222222222,\"#7201a8\"],[0.3333333333333333,\"#9c179e\"],[0.4444444444444444,\"#bd3786\"],[0.5555555555555556,\"#d8576b\"],[0.6666666666666666,\"#ed7953\"],[0.7777777777777778,\"#fb9f3a\"],[0.8888888888888888,\"#fdca26\"],[1.0,\"#f0f921\"]]}],\"mesh3d\":[{\"type\":\"mesh3d\",\"colorbar\":{\"outlinewidth\":0,\"ticks\":\"\"}}],\"scatter\":[{\"fillpattern\":{\"fillmode\":\"overlay\",\"size\":10,\"solidity\":0.2},\"type\":\"scatter\"}],\"parcoords\":[{\"type\":\"parcoords\",\"line\":{\"colorbar\":{\"outlinewidth\":0,\"ticks\":\"\"}}}],\"scatterpolargl\":[{\"type\":\"scatterpolargl\",\"marker\":{\"colorbar\":{\"outlinewidth\":0,\"ticks\":\"\"}}}],\"bar\":[{\"error_x\":{\"color\":\"#2a3f5f\"},\"error_y\":{\"color\":\"#2a3f5f\"},\"marker\":{\"line\":{\"color\":\"#E5ECF6\",\"width\":0.5},\"pattern\":{\"fillmode\":\"overlay\",\"size\":10,\"solidity\":0.2}},\"type\":\"bar\"}],\"scattergeo\":[{\"type\":\"scattergeo\",\"marker\":{\"colorbar\":{\"outlinewidth\":0,\"ticks\":\"\"}}}],\"scatterpolar\":[{\"type\":\"scatterpolar\",\"marker\":{\"colorbar\":{\"outlinewidth\":0,\"ticks\":\"\"}}}],\"histogram\":[{\"marker\":{\"pattern\":{\"fillmode\":\"overlay\",\"size\":10,\"solidity\":0.2}},\"type\":\"histogram\"}],\"scattergl\":[{\"type\":\"scattergl\",\"marker\":{\"colorbar\":{\"outlinewidth\":0,\"ticks\":\"\"}}}],\"scatter3d\":[{\"type\":\"scatter3d\",\"line\":{\"colorbar\":{\"outlinewidth\":0,\"ticks\":\"\"}},\"marker\":{\"colorbar\":{\"outlinewidth\":0,\"ticks\":\"\"}}}],\"scattermapbox\":[{\"type\":\"scattermapbox\",\"marker\":{\"colorbar\":{\"outlinewidth\":0,\"ticks\":\"\"}}}],\"scatterternary\":[{\"type\":\"scatterternary\",\"marker\":{\"colorbar\":{\"outlinewidth\":0,\"ticks\":\"\"}}}],\"scattercarpet\":[{\"type\":\"scattercarpet\",\"marker\":{\"colorbar\":{\"outlinewidth\":0,\"ticks\":\"\"}}}],\"carpet\":[{\"aaxis\":{\"endlinecolor\":\"#2a3f5f\",\"gridcolor\":\"white\",\"linecolor\":\"white\",\"minorgridcolor\":\"white\",\"startlinecolor\":\"#2a3f5f\"},\"baxis\":{\"endlinecolor\":\"#2a3f5f\",\"gridcolor\":\"white\",\"linecolor\":\"white\",\"minorgridcolor\":\"white\",\"startlinecolor\":\"#2a3f5f\"},\"type\":\"carpet\"}],\"table\":[{\"cells\":{\"fill\":{\"color\":\"#EBF0F8\"},\"line\":{\"color\":\"white\"}},\"header\":{\"fill\":{\"color\":\"#C8D4E3\"},\"line\":{\"color\":\"white\"}},\"type\":\"table\"}],\"barpolar\":[{\"marker\":{\"line\":{\"color\":\"#E5ECF6\",\"width\":0.5},\"pattern\":{\"fillmode\":\"overlay\",\"size\":10,\"solidity\":0.2}},\"type\":\"barpolar\"}],\"pie\":[{\"automargin\":true,\"type\":\"pie\"}]},\"layout\":{\"autotypenumbers\":\"strict\",\"colorway\":[\"#636efa\",\"#EF553B\",\"#00cc96\",\"#ab63fa\",\"#FFA15A\",\"#19d3f3\",\"#FF6692\",\"#B6E880\",\"#FF97FF\",\"#FECB52\"],\"font\":{\"color\":\"#2a3f5f\"},\"hovermode\":\"closest\",\"hoverlabel\":{\"align\":\"left\"},\"paper_bgcolor\":\"white\",\"plot_bgcolor\":\"#E5ECF6\",\"polar\":{\"bgcolor\":\"#E5ECF6\",\"angularaxis\":{\"gridcolor\":\"white\",\"linecolor\":\"white\",\"ticks\":\"\"},\"radialaxis\":{\"gridcolor\":\"white\",\"linecolor\":\"white\",\"ticks\":\"\"}},\"ternary\":{\"bgcolor\":\"#E5ECF6\",\"aaxis\":{\"gridcolor\":\"white\",\"linecolor\":\"white\",\"ticks\":\"\"},\"baxis\":{\"gridcolor\":\"white\",\"linecolor\":\"white\",\"ticks\":\"\"},\"caxis\":{\"gridcolor\":\"white\",\"linecolor\":\"white\",\"ticks\":\"\"}},\"coloraxis\":{\"colorbar\":{\"outlinewidth\":0,\"ticks\":\"\"}},\"colorscale\":{\"sequential\":[[0.0,\"#0d0887\"],[0.1111111111111111,\"#46039f\"],[0.2222222222222222,\"#7201a8\"],[0.3333333333333333,\"#9c179e\"],[0.4444444444444444,\"#bd3786\"],[0.5555555555555556,\"#d8576b\"],[0.6666666666666666,\"#ed7953\"],[0.7777777777777778,\"#fb9f3a\"],[0.8888888888888888,\"#fdca26\"],[1.0,\"#f0f921\"]],\"sequentialminus\":[[0.0,\"#0d0887\"],[0.1111111111111111,\"#46039f\"],[0.2222222222222222,\"#7201a8\"],[0.3333333333333333,\"#9c179e\"],[0.4444444444444444,\"#bd3786\"],[0.5555555555555556,\"#d8576b\"],[0.6666666666666666,\"#ed7953\"],[0.7777777777777778,\"#fb9f3a\"],[0.8888888888888888,\"#fdca26\"],[1.0,\"#f0f921\"]],\"diverging\":[[0,\"#8e0152\"],[0.1,\"#c51b7d\"],[0.2,\"#de77ae\"],[0.3,\"#f1b6da\"],[0.4,\"#fde0ef\"],[0.5,\"#f7f7f7\"],[0.6,\"#e6f5d0\"],[0.7,\"#b8e186\"],[0.8,\"#7fbc41\"],[0.9,\"#4d9221\"],[1,\"#276419\"]]},\"xaxis\":{\"gridcolor\":\"white\",\"linecolor\":\"white\",\"ticks\":\"\",\"title\":{\"standoff\":15},\"zerolinecolor\":\"white\",\"automargin\":true,\"zerolinewidth\":2},\"yaxis\":{\"gridcolor\":\"white\",\"linecolor\":\"white\",\"ticks\":\"\",\"title\":{\"standoff\":15},\"zerolinecolor\":\"white\",\"automargin\":true,\"zerolinewidth\":2},\"scene\":{\"xaxis\":{\"backgroundcolor\":\"#E5ECF6\",\"gridcolor\":\"white\",\"linecolor\":\"white\",\"showbackground\":true,\"ticks\":\"\",\"zerolinecolor\":\"white\",\"gridwidth\":2},\"yaxis\":{\"backgroundcolor\":\"#E5ECF6\",\"gridcolor\":\"white\",\"linecolor\":\"white\",\"showbackground\":true,\"ticks\":\"\",\"zerolinecolor\":\"white\",\"gridwidth\":2},\"zaxis\":{\"backgroundcolor\":\"#E5ECF6\",\"gridcolor\":\"white\",\"linecolor\":\"white\",\"showbackground\":true,\"ticks\":\"\",\"zerolinecolor\":\"white\",\"gridwidth\":2}},\"shapedefaults\":{\"line\":{\"color\":\"#2a3f5f\"}},\"annotationdefaults\":{\"arrowcolor\":\"#2a3f5f\",\"arrowhead\":0,\"arrowwidth\":1},\"geo\":{\"bgcolor\":\"white\",\"landcolor\":\"#E5ECF6\",\"subunitcolor\":\"white\",\"showland\":true,\"showlakes\":true,\"lakecolor\":\"white\"},\"title\":{\"x\":0.05},\"mapbox\":{\"style\":\"light\"}}},\"margin\":{\"l\":0,\"r\":0,\"t\":0,\"b\":0},\"modebar\":{\"remove\":[\"zoom\",\"zoomin\",\"zoomout\",\"pan\",\"reset\",\"autoscale\",\"resetscale\",\"toImage\"]},\"xaxis\":{\"showticklabels\":false},\"yaxis\":{\"showticklabels\":false,\"autorange\":\"reversed\"},\"height\":30,\"width\":800},                        {\"responsive\": true}                    ).then(function(){\n",
       "                            \n",
       "var gd = document.getElementById('81b3f1d6-3f34-4d1f-9379-aa536d2b41cd');\n",
       "var x = new MutationObserver(function (mutations, observer) {{\n",
       "        var display = window.getComputedStyle(gd).display;\n",
       "        if (!display || display === 'none') {{\n",
       "            console.log([gd, 'removed!']);\n",
       "            Plotly.purge(gd);\n",
       "            observer.disconnect();\n",
       "        }}\n",
       "}});\n",
       "\n",
       "// Listen for the removal of the full notebook cells\n",
       "var notebookContainer = gd.closest('#notebook-container');\n",
       "if (notebookContainer) {{\n",
       "    x.observe(notebookContainer, {childList: true});\n",
       "}}\n",
       "\n",
       "// Listen for the clearing of the current output cell\n",
       "var outputEl = gd.closest('.output');\n",
       "if (outputEl) {{\n",
       "    x.observe(outputEl, {childList: true});\n",
       "}}\n",
       "\n",
       "                        })                };                });            </script>        </div>"
      ]
     },
     "metadata": {},
     "output_type": "display_data"
    },
    {
     "data": {
      "application/vnd.jupyter.widget-view+json": {
       "model_id": "18dbecb190dd4c7baf8038645ae6e937",
       "version_major": 2,
       "version_minor": 0
      },
      "text/plain": [
       "FigureWidget({\n",
       "    'data': [{'customdata': array([['!'],\n",
       "                                   ['\"'],\n",
       "                                   ['#'],\n",
       "                                   ...,\n",
       "                                   ['█informants'],\n",
       "                                   ['█gazed'],\n",
       "                                   ['<|endoftext|>']], dtype=object),\n",
       "              'hovertemplate': 'x=%{x}<br>y=%{y}<br>z=%{z}<br>word=%{customdata[0]}<extra></extra>',\n",
       "              'legendgroup': '',\n",
       "              'marker': {'color': 'grey', 'opacity': 0.1, 'size': 2, 'symbol': 'circle'},\n",
       "              'mode': 'markers',\n",
       "              'name': '',\n",
       "              'scene': 'scene',\n",
       "              'showlegend': False,\n",
       "              'type': 'scatter3d',\n",
       "              'uid': 'ea56291d-c417-46a4-b4fe-13f130d99801',\n",
       "              'x': array([ 1.2710495 ,  1.3960313 ,  0.81940186, ..., -0.5016637 , -0.30918872,\n",
       "                           1.2848917 ], dtype=float32),\n",
       "              'y': array([-0.4137918 , -0.55523336, -0.48536107, ...,  0.49144742,  0.03463439,\n",
       "                          -0.31195438], dtype=float32),\n",
       "              'z': array([-0.2922075 , -0.10021663,  0.00296098, ...,  0.489444  ,  0.02984621,\n",
       "                          -0.02465447], dtype=float32)},\n",
       "             {'hovertemplate': '%{hovertext}<br>idx=%{text}<br>colorIdx=0<br>trace=origin<extra></extra>',\n",
       "              'hovertext': array(['█at'], dtype=object),\n",
       "              'marker': {'color': ['black'], 'opacity': 0.8, 'size': [15]},\n",
       "              'mode': 'markers+text',\n",
       "              'name': 'origin',\n",
       "              'text': array(['0'], dtype=object),\n",
       "              'type': 'scatter3d',\n",
       "              'uid': '72db1324-207c-4da6-b8f6-4124ee94050f',\n",
       "              'x': array([1.3694556], dtype=float32),\n",
       "              'y': array([-0.04445832], dtype=float32),\n",
       "              'z': array([-0.1289798], dtype=float32)},\n",
       "             {'hovertemplate': '%{hovertext}<br>idx=%{text}<br>colorIdx=1<br>trace=mean<extra></extra>',\n",
       "              'hovertext': array(['█mathemat'], dtype=object),\n",
       "              'marker': {'color': ['black'], 'opacity': 0.8, 'size': [15]},\n",
       "              'mode': 'markers+text',\n",
       "              'name': 'mean',\n",
       "              'text': array(['0'], dtype=object),\n",
       "              'type': 'scatter3d',\n",
       "              'uid': '58895dba-a095-4023-93b6-cc23c1b442ef',\n",
       "              'x': array([0.], dtype=float32),\n",
       "              'y': array([0.], dtype=float32),\n",
       "              'z': array([0.], dtype=float32)},\n",
       "             {'hovertemplate': '%{hovertext}<br>idx=%{text}<br>colorIdx=0<br>trace=wte<extra></extra>',\n",
       "              'hovertext': array(['Alan', '█Turing', '█theor', 'ized', '█that', '█the'], dtype=object),\n",
       "              'marker': {'color': [rgb(250, 0, 135), rgb(250, 0, 135), rgb(250, 0,\n",
       "                                   135), rgb(250, 0, 135), rgb(250, 0, 135),\n",
       "                                   rgb(250, 0, 135)],\n",
       "                         'opacity': 0.8,\n",
       "                         'size': [15, 15, 15, 15, 15, 15]},\n",
       "              'mode': 'markers+text',\n",
       "              'name': 'wte',\n",
       "              'text': array(['0', '1', '2', '3', '4', '5'], dtype=object),\n",
       "              'type': 'scatter3d',\n",
       "              'uid': '3532dd70-019f-4e69-b4a9-23057a1c2a84',\n",
       "              'x': array([-0.14608203, -0.35705683, -0.03501791,  0.5467578 ,  1.8963407 ,\n",
       "                           2.3189125 ], dtype=float32),\n",
       "              'y': array([-0.01083277,  0.37969336,  0.28734425, -0.5601155 , -0.10248117,\n",
       "                          -0.16601855], dtype=float32),\n",
       "              'z': array([-0.2514325 , -0.0575792 ,  0.12038525,  0.12564893, -0.03717796,\n",
       "                          -0.10427815], dtype=float32)},\n",
       "             {'hovertemplate': '%{hovertext}<br>idx=%{text}<br>colorIdx=1<br>trace=wpe<extra></extra>',\n",
       "              'hovertext': array(['Alan', '█Turing', '█theor', 'ized', '█that', '█the'], dtype=object),\n",
       "              'marker': {'color': [rgb(251, 228, 38), rgb(251, 228, 38), rgb(251,\n",
       "                                   228, 38), rgb(251, 228, 38), rgb(251, 228, 38),\n",
       "                                   rgb(251, 228, 38)],\n",
       "                         'opacity': 0.8,\n",
       "                         'size': [15, 15, 15, 15, 15, 15]},\n",
       "              'mode': 'markers+text',\n",
       "              'name': 'wpe',\n",
       "              'text': array(['0', '1', '2', '3', '4', '5'], dtype=object),\n",
       "              'type': 'scatter3d',\n",
       "              'uid': '0a74c36c-9316-4c18-b37a-f818774dd2c9',\n",
       "              'x': array([ 0.07534847, -0.14717495,  0.12765896,  0.68741626,  2.0285935 ,\n",
       "                           2.4372458 ], dtype=float32),\n",
       "              'y': array([-0.08220768,  0.42247605,  0.34147   , -0.5280275 , -0.09060266,\n",
       "                          -0.16139695], dtype=float32),\n",
       "              'z': array([-0.26082343,  0.05539445,  0.30622387,  0.30704412,  0.14023168,\n",
       "                           0.06261975], dtype=float32)},\n",
       "             {'hovertemplate': '%{hovertext}<br>idx=%{text}<br>colorIdx=2<br>trace=attn0<extra></extra>',\n",
       "              'hovertext': array(['█livest', '█Turing', '█theor', '█and', '█the', '█the'], dtype=object),\n",
       "              'marker': {'color': [rgb(176, 0, 104), rgb(176, 0, 104), rgb(176, 0,\n",
       "                                   104), rgb(176, 0, 104), rgb(176, 0, 104),\n",
       "                                   rgb(176, 0, 104)],\n",
       "                         'opacity': 0.8,\n",
       "                         'size': [15, 15, 15, 15, 15, 15]},\n",
       "              'mode': 'markers+text',\n",
       "              'name': 'attn0',\n",
       "              'text': array(['0', '1', '2', '3', '4', '5'], dtype=object),\n",
       "              'type': 'scatter3d',\n",
       "              'uid': '78a930c1-e52f-481e-9917-da5893b71886',\n",
       "              'x': array([3.5930343, 4.696925 , 4.9275355, 6.199899 , 6.368192 , 6.646469 ],\n",
       "                         dtype=float32),\n",
       "              'y': array([-0.68427825, -0.05921594, -0.06329826, -0.96149   , -0.31812465,\n",
       "                          -0.07292992], dtype=float32),\n",
       "              'z': array([-2.867364 , -0.0612386, -1.0488718, -0.5085275,  1.8172746,  1.6238909],\n",
       "                         dtype=float32)},\n",
       "             {'hovertemplate': '%{hovertext}<br>idx=%{text}<br>colorIdx=3<br>trace=layer0<extra></extra>',\n",
       "              'hovertext': array(['█King', '█Turing', '█theor', '█that', '█they', '█same'], dtype=object),\n",
       "              'marker': {'color': [rgb(252, 28, 191), rgb(252, 28, 191), rgb(252,\n",
       "                                   28, 191), rgb(252, 28, 191), rgb(252, 28, 191),\n",
       "                                   rgb(252, 28, 191)],\n",
       "                         'opacity': 0.8,\n",
       "                         'size': [15, 15, 15, 15, 15, 15]},\n",
       "              'mode': 'markers+text',\n",
       "              'name': 'layer0',\n",
       "              'text': array(['0', '1', '2', '3', '4', '5'], dtype=object),\n",
       "              'type': 'scatter3d',\n",
       "              'uid': '4368a594-7a9f-44fd-acd5-af4decb43ed9',\n",
       "              'x': array([3.9312997, 4.328685 , 4.348636 , 5.1621327, 5.4243946, 6.535476 ],\n",
       "                         dtype=float32),\n",
       "              'y': array([-1.1615014,  0.839955 ,  1.8054132,  0.5407141,  0.5529952,  1.5906383],\n",
       "                         dtype=float32),\n",
       "              'z': array([-1.3296117 , -0.03848225,  0.3368382 , -0.16945684,  1.3837004 ,\n",
       "                           1.2191327 ], dtype=float32)}],\n",
       "    'layout': {'height': 800,\n",
       "               'margin': {'b': 20, 'l': 20, 'r': 20, 't': 20},\n",
       "               'scene': {'aspectmode': 'auto',\n",
       "                         'camera': {'center': {'x': 0, 'y': 0, 'z': 0},\n",
       "                                    'eye': {'x': -0.15515481833802927, 'y': -1.9645126014479082, 'z': 0.8967258338527258},\n",
       "                                    'projection': {'type': 'perspective'},\n",
       "                                    'up': {'x': 0, 'y': 0, 'z': 1}}},\n",
       "               'showlegend': False,\n",
       "               'template': '...',\n",
       "               'width': 1000,\n",
       "               'xaxis': {'linecolor': 'black', 'linewidth': 1.5, 'showline': True},\n",
       "               'yaxis': {'linecolor': 'black', 'linewidth': 1.5, 'showline': True}}\n",
       "})"
      ]
     },
     "metadata": {},
     "output_type": "display_data"
    }
   ],
   "source": [
    "pj.showColorband().show()\n",
    "# pj.showEmbedding()\n",
    "# pj.showEmbedding().show(renderer='iframe')\n",
    "display(pj.showEmbedding())"
   ]
  },
  {
   "cell_type": "code",
   "execution_count": 5,
   "id": "ee63e83a-bf80-4ee6-a1ed-e8c155c4f250",
   "metadata": {},
   "outputs": [
    {
     "data": {
      "application/vnd.jupyter.widget-view+json": {
       "model_id": "29d0079f0e164513a3a93cff91747826",
       "version_major": 2,
       "version_minor": 0
      },
      "text/plain": [
       "Output()"
      ]
     },
     "metadata": {},
     "output_type": "display_data"
    }
   ],
   "source": [
    "pj.showConsole();"
   ]
  },
  {
   "cell_type": "raw",
   "id": "d2777190-925a-4011-abdd-b4e4f105821b",
   "metadata": {},
   "source": [
    "origin = pj.newTrace().name('origin').fromVectors(0).color('black').show()\n",
    "prompt = pj.newTrace().name('prompt').fromPrompt(\"Allen Turing theorized\").show()"
   ]
  },
  {
   "cell_type": "code",
   "execution_count": 49,
   "id": "e3ef7e25-ba6d-4f8d-8946-74e18863ae50",
   "metadata": {},
   "outputs": [],
   "source": [
    "prompt = \"Alan Turing theorized that computer would one day become the most powerful\"\n",
    "prompt = \"Alan Turing theorized that the\"\n",
    "\n",
    "pj.clearTraces();\n",
    "origin = pj.newTrace().name('origin').fromVectors(0).color('black').show()\n",
    "mean = pj.newTrace().name('mean').fromVectors(pj.projection().mean()).color('black').show()"
   ]
  },
  {
   "cell_type": "code",
   "execution_count": 423,
   "id": "218987db-6ce5-4654-81df-d23d9be3cde0",
   "metadata": {},
   "outputs": [],
   "source": [
    "trace1 = pj.newTrace().name('prompt').fromPrompt(prompt).show()"
   ]
  },
  {
   "cell_type": "code",
   "execution_count": 50,
   "id": "5bd1e6cb-7e7a-4b0f-93a6-86d94926a9c7",
   "metadata": {},
   "outputs": [],
   "source": [
    "infer = model.inference().prompt(prompt)\n",
    "x = infer.ssrun(\"\"\"self wte | wpe | layer: 0 | layer: 1 | layer: 2 | layer: 3 |\n",
    "                layer: 4 | layer: 5 | layer: 6 | layer: 7 |\n",
    "                layer: 8 | layer: 9 | layer: 10 | layer: 11 | fnorm | delta\"\"\")\n",
    "trace4 = pj.newTrace().name('trace4').fromVectors(x).show()"
   ]
  },
  {
   "cell_type": "code",
   "execution_count": 425,
   "id": "05344772-5a14-44b7-a8d3-3aed18c2fba2",
   "metadata": {},
   "outputs": [],
   "source": [
    "x = infer.ssrun(\"\"\"self wte | wpe | x\"\"\")\n",
    "wpe = pj.newTrace().name('wpe').fromVectors(x).show()"
   ]
  },
  {
   "cell_type": "code",
   "execution_count": 52,
   "id": "6a07f4b0-ce46-4674-93a8-c749bfe27c85",
   "metadata": {},
   "outputs": [],
   "source": [
    "infer.reset()\n",
    "l = 0 \n",
    "x = infer.ssrun(f\"self lnorm1: {l} | attn: {l} | sum | lnorm2: {l} | ffn: {l} | sum | fnorm | delta\")\n",
    "# x = infer.ssrun(\"\"\"self lnorm1: 0 | attn: 0 | sum | fnorm | delta\"\"\")\n",
    "attn0 = pj.newTrace().name('attn0').fromVectors(x).show()"
   ]
  },
  {
   "cell_type": "code",
   "execution_count": 419,
   "id": "3346321d-2535-417d-a9aa-094269d6f5d9",
   "metadata": {},
   "outputs": [],
   "source": [
    "# x = infer.ssrun(\"\"\"self lnorm1: 0 | attn: 0 | sum | lnorm2: 0 | ffn: 0 | sum | fnorm | delta\"\"\")\n",
    "x = infer.ssrun(\"\"\"self lnorm1: 0 | attn: 0 | sum | fnorm | delta\"\"\")\n",
    "attn0 = pj.newTrace().name('attn0').fromVectors(x).show()"
   ]
  },
  {
   "cell_type": "code",
   "execution_count": 452,
   "id": "3374df1b-7074-43b5-b43e-782ec5ac2c2d",
   "metadata": {},
   "outputs": [
    {
     "data": {
      "text/plain": [
       "attn0:Trace 69A0"
      ]
     },
     "execution_count": 452,
     "metadata": {},
     "output_type": "execute_result"
    }
   ],
   "source": [
    "attn0.remove()"
   ]
  },
  {
   "cell_type": "code",
   "execution_count": null,
   "id": "a87a5679-9992-4c64-9856-51514fe790eb",
   "metadata": {},
   "outputs": [],
   "source": [
    "# error\n",
    "x = infer.ssrun(\"\"\"lnorm2: 0 | ffn: 0 | sum | fnorm\"\"\")\n",
    "ffn0 = pj.newTrace().name('ffn0').fromVectors(x).show()"
   ]
  },
  {
   "cell_type": "markdown",
   "id": "ec00493a-e485-4469-9529-2209f52c2c25",
   "metadata": {},
   "source": [
    "### Demo Sequence"
   ]
  },
  {
   "cell_type": "code",
   "execution_count": 95,
   "id": "0104d64f-e4be-42e0-9429-e957039de13d",
   "metadata": {},
   "outputs": [
    {
     "data": {
      "text/plain": [
       "{}"
      ]
     },
     "execution_count": 95,
     "metadata": {},
     "output_type": "execute_result"
    }
   ],
   "source": [
    "pj.clearAll().traces()"
   ]
  },
  {
   "cell_type": "code",
   "execution_count": null,
   "id": "2da616a9-676d-4f54-8a94-ee09b87ac9b7",
   "metadata": {},
   "outputs": [],
   "source": [
    "pj.showEmbedding();"
   ]
  },
  {
   "cell_type": "markdown",
   "id": "2ae5f185-11e7-4cf8-90de-2610d551e2a9",
   "metadata": {},
   "source": [
    "#### Seq #1"
   ]
  },
  {
   "cell_type": "code",
   "execution_count": 6,
   "id": "75106ad8-ca05-4f67-8ca7-7893af6b3501",
   "metadata": {},
   "outputs": [],
   "source": [
    "pj.clearTraces();\n",
    "prompt = \"Alan Turing theorized that the\"\n",
    "origin = pj.newTrace().name('origin').fromVectors(0).color('black').show()\n",
    "mean = pj.newTrace().name('mean').fromVectors(pj.projection().mean()).color('black').show()\n",
    "pj.colorRoll().reset();\n",
    "infer = model.inference().prompt(prompt)\n",
    "x = infer.ssrun(\"\"\"self wte | wpe | layer: 0 | layer: 1 | layer: 2 | layer: 3 |\n",
    "                layer: 4 | layer: 5 | layer: 6 | layer: 7 |\n",
    "                layer: 8 | layer: 9 | layer: 10 | layer: 11 | fnorm | delta\"\"\")\n",
    "layer11 = pj.newTrace().name('layer11').fromVectors(x).show()"
   ]
  },
  {
   "cell_type": "markdown",
   "id": "1642157d-c4ba-4364-93c6-c9e673093117",
   "metadata": {},
   "source": [
    "#### Seq #2"
   ]
  },
  {
   "cell_type": "code",
   "execution_count": 106,
   "id": "5ade9aa1-b6fe-4494-9e2f-791e3dd0e8db",
   "metadata": {},
   "outputs": [],
   "source": [
    "prompt = \"Alan Turing theorized that the\"\n",
    "pj.clearTraces();\n",
    "origin = pj.newTrace().name('origin').fromVectors(0).color('black').show()\n",
    "mean = pj.newTrace().name('mean').fromVectors(pj.projection().mean()).color('black').show()\n",
    "\n",
    "pj.colorRoll().reset();\n",
    "infer = model.inference().prompt(prompt)\n",
    "x = infer.ssrun(\"self wte | x\")\n",
    "wte = pj.newTrace().name('wte').fromVectors(x).show()\n",
    "x = infer.ssrun(\"self wpe | x\")\n",
    "wpe = pj.newTrace().name('wpe').fromVectors(x).show()\n",
    "\n",
    "x = infer.ssrun(\"self layer: 0 | fnorm | delta\")\n",
    "layer0 = pj.newTrace().name('layer0').fromVectors(x).show()"
   ]
  },
  {
   "cell_type": "code",
   "execution_count": 123,
   "id": "196ad059-85bd-42e3-9e81-9f534c63e7ed",
   "metadata": {},
   "outputs": [],
   "source": [
    "pj.clearTraces();"
   ]
  },
  {
   "cell_type": "code",
   "execution_count": 124,
   "id": "612bf791-04a3-4d07-9236-b07f56ff21a4",
   "metadata": {},
   "outputs": [],
   "source": [
    "prompt = \"Alan Turing theorized that the\"\n",
    "origin = pj.newTrace().name('origin').fromVectors(0).color('black').show()\n",
    "mean = pj.newTrace().name('mean').fromVectors(pj.projection().mean()).color('black').show()"
   ]
  },
  {
   "cell_type": "code",
   "execution_count": 125,
   "id": "e2118647-2dfa-4fe3-945a-81a54810a910",
   "metadata": {},
   "outputs": [],
   "source": [
    "pj.colorRoll().reset();\n",
    "infer = model.inference().prompt(prompt)\n",
    "x = infer.ssrun(\"self wte | x\")\n",
    "wte = pj.newTrace().name('wte').fromVectors(x).show()"
   ]
  },
  {
   "cell_type": "code",
   "execution_count": 126,
   "id": "0e89be3e-7b79-4479-bfec-e0082132c5e2",
   "metadata": {},
   "outputs": [],
   "source": [
    "x = infer.ssrun(\"self wpe | x\")\n",
    "wpe = pj.newTrace().name('wpe').fromVectors(x).show()"
   ]
  },
  {
   "cell_type": "code",
   "execution_count": 129,
   "id": "e3c1ced5-074d-4892-8176-40e130803d40",
   "metadata": {},
   "outputs": [],
   "source": [
    "x = infer.ssrun(\"self layer: 0 | fnorm | delta\")\n",
    "layer0 = pj.newTrace().name('layer0').fromVectors(x).show()"
   ]
  },
  {
   "cell_type": "code",
   "execution_count": 128,
   "id": "36b19869-edc6-4cec-9c28-d12dead8eebc",
   "metadata": {},
   "outputs": [],
   "source": [
    "infer = model.inference().prompt(prompt)\n",
    "x = infer.ssrun(\"self wte | wpe\")\n",
    "# x = infer.ssrun(\"self lnorm1: 0 | attn: 0 | sum | lnorm2: 0 | ffn: 0 | sum | fnorm | delta\")"
   ]
  },
  {
   "cell_type": "code",
   "execution_count": 127,
   "id": "8702e556-4185-43d5-aad4-f85fe5b184b5",
   "metadata": {},
   "outputs": [],
   "source": [
    "x = infer.ssrun(\"self lnorm1: 0 | attn: 0 | sum | fnorm | delta\")\n",
    "attn0 = pj.newTrace().name('attn0').fromVectors(x).show()"
   ]
  },
  {
   "cell_type": "code",
   "execution_count": 105,
   "id": "b3307466-c746-4916-ad31-17531c92b06e",
   "metadata": {},
   "outputs": [],
   "source": [
    "x = infer.ssrun(\"self lnorm2: 0 | ffn: 0 | sum | fnorm | delta\")\n",
    "ffn0 = pj.newTrace().name('ffn0').fromVectors(x).show()"
   ]
  },
  {
   "cell_type": "code",
   "execution_count": 60,
   "id": "389c6905-ed53-4866-8844-a3c31a72ee29",
   "metadata": {},
   "outputs": [],
   "source": [
    "infer = model.inference().prompt(prompt)\n",
    "x = infer.ssrun(\"self wte | wpe\")\n",
    "x = infer.ssrun(\"self lnorm1: 0 | attn: 0 | sum | lnorm2: 0 | ffn: 0 | sum | x\")\n",
    "trcx = pj.newTrace().name('trcx').fromVectors(x).show()"
   ]
  },
  {
   "cell_type": "code",
   "execution_count": 130,
   "id": "d0cda0ad-20d8-40b3-bc4c-8d92d15d79cd",
   "metadata": {},
   "outputs": [
    {
     "data": {
      "text/plain": [
       "projector:Projector 7F10"
      ]
     },
     "execution_count": 130,
     "metadata": {},
     "output_type": "execute_result"
    }
   ],
   "source": [
    "pj.resetView()"
   ]
  },
  {
   "cell_type": "code",
   "execution_count": 109,
   "id": "44ae5a60-5c80-4df0-a991-84c6ce6f9390",
   "metadata": {},
   "outputs": [],
   "source": [
    "# vw = pj.getView()\n",
    "vw['aspectmode'] = 'cube'"
   ]
  },
  {
   "cell_type": "code",
   "execution_count": 110,
   "id": "bea7bcd7-b275-41bb-a420-f71ea35b3684",
   "metadata": {},
   "outputs": [
    {
     "data": {
      "text/plain": [
       "projector:Projector 7F10"
      ]
     },
     "execution_count": 110,
     "metadata": {},
     "output_type": "execute_result"
    }
   ],
   "source": [
    "pj.updateView(vw)"
   ]
  },
  {
   "cell_type": "code",
   "execution_count": 100,
   "id": "f410b6f4-3c95-421f-81a2-0054af588af5",
   "metadata": {},
   "outputs": [
    {
     "name": "stdout",
     "output_type": "stream",
     "text": [
      "a View:View 6880\n",
      "  View.xlimits = (-2.0223638340830803, 6.909161023795605)\n",
      "  View.ylimits = (-1.254217490553856, 1.8981293290853498)\n",
      "  View.zlimits = (-3.0137588828802113, 1.9636695235967636)\n",
      "  View.aspectmode = cube\n",
      "\n"
     ]
    }
   ],
   "source": [
    "vw.print()"
   ]
  },
  {
   "cell_type": "code",
   "execution_count": 92,
   "id": "bde1b337-461e-4e5b-99fa-226e3f0c7d41",
   "metadata": {},
   "outputs": [
    {
     "data": {
      "text/plain": [
       "(-2.0223638340830803, 6.909161023795605)"
      ]
     },
     "execution_count": 92,
     "metadata": {},
     "output_type": "execute_result"
    }
   ],
   "source": [
    "vw.xlimits()"
   ]
  },
  {
   "cell_type": "code",
   "execution_count": 62,
   "id": "d5a4f3a8-1134-4442-a531-04d06e2b4788",
   "metadata": {},
   "outputs": [
    {
     "data": {
      "text/plain": [
       "layer0:Trace C550"
      ]
     },
     "execution_count": 62,
     "metadata": {},
     "output_type": "execute_result"
    }
   ],
   "source": [
    "layer0.show()"
   ]
  },
  {
   "cell_type": "code",
   "execution_count": 63,
   "id": "c2a4a6cf-001d-4e8c-8987-463acf9ddf10",
   "metadata": {},
   "outputs": [
    {
     "data": {
      "text/plain": [
       "ffn0:Trace C520"
      ]
     },
     "execution_count": 63,
     "metadata": {},
     "output_type": "execute_result"
    }
   ],
   "source": [
    "ffn0.remove().show()"
   ]
  },
  {
   "cell_type": "code",
   "execution_count": 64,
   "id": "8ae396e5-cda2-4428-8798-b995e10f64b8",
   "metadata": {},
   "outputs": [
    {
     "data": {
      "text/plain": [
       "trcx:Trace C400"
      ]
     },
     "execution_count": 64,
     "metadata": {},
     "output_type": "execute_result"
    }
   ],
   "source": [
    "trcx.remove()"
   ]
  },
  {
   "cell_type": "code",
   "execution_count": 71,
   "id": "cc1a3dfd-7ece-4e0d-a3a1-454de33fc90d",
   "metadata": {},
   "outputs": [
    {
     "data": {
      "text/plain": [
       "projector:Projector 7F10"
      ]
     },
     "execution_count": 71,
     "metadata": {},
     "output_type": "execute_result"
    }
   ],
   "source": [
    "# vw['aspectmode'] = 'auto'\n",
    "pj.updateView(View())"
   ]
  },
  {
   "cell_type": "code",
   "execution_count": 69,
   "id": "be89d889-bdcc-4a86-b95f-1e47719aab61",
   "metadata": {},
   "outputs": [
    {
     "name": "stdout",
     "output_type": "stream",
     "text": [
      "a View:View 2400\n",
      "  View.xlimits = (-3.3600479885935783, 51.05273812264204)\n",
      "  View.ylimits = (-21.063999444246292, 2.4984257519245148)\n",
      "  View.zlimits = (-5.264964610338211, 1.5851750671863556)\n",
      "  View.aspectmode = auto\n",
      "\n"
     ]
    }
   ],
   "source": [
    "pj.view().print()"
   ]
  },
  {
   "cell_type": "code",
   "execution_count": 70,
   "id": "14c4bada-54ea-40fa-936c-e202ab51e2e4",
   "metadata": {},
   "outputs": [
    {
     "name": "stdout",
     "output_type": "stream",
     "text": [
      "a View:View 1880\n",
      "\n"
     ]
    }
   ],
   "source": [
    "View().print()"
   ]
  },
  {
   "cell_type": "markdown",
   "id": "53fea4ba-df22-40d0-adb6-789d0c946bc2",
   "metadata": {},
   "source": [
    "### Hacks"
   ]
  },
  {
   "cell_type": "code",
   "execution_count": 48,
   "id": "cdeb0a9b-eaef-4b25-a58b-301444f1e32f",
   "metadata": {},
   "outputs": [],
   "source": [
    "prompt = \"Alan Turing theorized that the\"\n",
    "infer = model.inference().prompt(prompt)\n",
    "x = infer.ssrun(\"\"\"self wte | wpe | layer: 0 | layer: 1 | layer: 2 | layer: 3 |\n",
    "                layer: 4 | layer: 5 | layer: 6 | layer: 7 |\n",
    "                layer: 8 | layer: 9 | layer: 10 | layer: 11 | fnorm | delta\"\"\")\n",
    "trace4 = pj.newTrace().name('trace4').fromVectors(x).show()"
   ]
  },
  {
   "cell_type": "code",
   "execution_count": 53,
   "id": "06009098-a061-4f01-afcf-274021eaba12",
   "metadata": {},
   "outputs": [],
   "source": [
    "pj.view()['aspectmode'] = 'auto'"
   ]
  },
  {
   "cell_type": "code",
   "execution_count": 54,
   "id": "759295f7-5338-441f-8891-981d0552c8c2",
   "metadata": {},
   "outputs": [
    {
     "data": {
      "text/plain": [
       "projector:Projector E9A0"
      ]
     },
     "execution_count": 54,
     "metadata": {},
     "output_type": "execute_result"
    }
   ],
   "source": [
    "pj.updateView()"
   ]
  },
  {
   "cell_type": "code",
   "execution_count": 72,
   "id": "bd633f97-b2de-49a3-bee4-043bc8450f20",
   "metadata": {},
   "outputs": [
    {
     "data": {
      "text/plain": [
       "{'origin': origin:Trace EF10,\n",
       " 'mean': mean:Trace EC10,\n",
       " 'attn0': attn0:Trace 17C0}"
      ]
     },
     "execution_count": 72,
     "metadata": {},
     "output_type": "execute_result"
    }
   ],
   "source": [
    "pj.traces()"
   ]
  },
  {
   "cell_type": "code",
   "execution_count": 59,
   "id": "696db0f9-2879-45af-ae52-e2bebaab38d3",
   "metadata": {},
   "outputs": [
    {
     "data": {
      "text/plain": [
       "attn0:Trace 17C0"
      ]
     },
     "execution_count": 59,
     "metadata": {},
     "output_type": "execute_result"
    }
   ],
   "source": [
    "attn0.remove()"
   ]
  },
  {
   "cell_type": "code",
   "execution_count": 58,
   "id": "fac3739f-93be-4910-b2b6-3308d1a8636e",
   "metadata": {},
   "outputs": [
    {
     "data": {
      "text/plain": [
       "attn0:Trace 17C0"
      ]
     },
     "execution_count": 58,
     "metadata": {},
     "output_type": "execute_result"
    }
   ],
   "source": [
    "attn0.show()"
   ]
  },
  {
   "cell_type": "code",
   "execution_count": 62,
   "id": "18f44dce-6020-44e6-95a4-656a5501171e",
   "metadata": {},
   "outputs": [
    {
     "data": {
      "text/plain": [
       "tensor[6, 3] n=18 x∈[-2.098, 9.624] μ=2.248 σ=5.395\n",
       "tensor([[ 9.6244, -2.0980, -0.7815],\n",
       "        [ 9.6244, -2.0980, -0.7815],\n",
       "        [ 9.6244, -2.0980, -0.7815],\n",
       "        [ 9.6244, -2.0980, -0.7815],\n",
       "        [ 9.6244, -2.0980, -0.7815],\n",
       "        [ 9.6244, -2.0980, -0.7815]])"
      ]
     },
     "execution_count": 62,
     "metadata": {},
     "output_type": "execute_result"
    }
   ],
   "source": [
    "attn0.projected().v"
   ]
  },
  {
   "cell_type": "code",
   "execution_count": 63,
   "id": "05d57442-b459-4cbb-bd7b-678b6d238068",
   "metadata": {},
   "outputs": [
    {
     "data": {
      "text/plain": [
       "trace4:Trace 1640"
      ]
     },
     "execution_count": 63,
     "metadata": {},
     "output_type": "execute_result"
    }
   ],
   "source": [
    "trace4.remove()"
   ]
  },
  {
   "cell_type": "code",
   "execution_count": 73,
   "id": "283a77f4-62dc-4fed-99a0-9bfbc999a254",
   "metadata": {},
   "outputs": [
    {
     "data": {
      "text/plain": [
       "attn0:Trace 17C0"
      ]
     },
     "execution_count": 73,
     "metadata": {},
     "output_type": "execute_result"
    }
   ],
   "source": [
    "# attn0.show()\n",
    "attn0.remove()"
   ]
  },
  {
   "cell_type": "code",
   "execution_count": 65,
   "id": "bf627aad-62b5-4a2b-8e74-ea491801e883",
   "metadata": {},
   "outputs": [
    {
     "name": "stdout",
     "output_type": "stream",
     "text": [
      "a View:View B310\n",
      "  View.xlimits = (-2.0244306549429893, 6.977366112172604)\n",
      "  View.ylimits = (-1.8134825378656387, 6.758363500237465)\n",
      "  View.zlimits = (-1.789711482822895, 2.1165115907788277)\n",
      "  View.aspectmode = auto\n",
      "\n"
     ]
    }
   ],
   "source": [
    "pj.view().print()"
   ]
  },
  {
   "cell_type": "code",
   "execution_count": 78,
   "id": "c9602e72-cfea-4d76-96ab-3cf7934274a6",
   "metadata": {},
   "outputs": [
    {
     "data": {
      "text/plain": [
       "projector:Projector E9A0"
      ]
     },
     "execution_count": 78,
     "metadata": {},
     "output_type": "execute_result"
    }
   ],
   "source": [
    "pj.view(View()).updateView()"
   ]
  },
  {
   "cell_type": "code",
   "execution_count": 70,
   "id": "f6c39230-9bbe-423e-be40-91bcb0a5c219",
   "metadata": {},
   "outputs": [
    {
     "name": "stdout",
     "output_type": "stream",
     "text": [
      "a View:View 7910\n",
      "\n"
     ]
    }
   ],
   "source": [
    "pj.view().print()"
   ]
  },
  {
   "cell_type": "code",
   "execution_count": 71,
   "id": "1e5f100e-f49f-46a9-929b-a4aa1eeb74bb",
   "metadata": {},
   "outputs": [
    {
     "data": {
      "text/plain": [
       "{'aspectmode': 'auto'}"
      ]
     },
     "execution_count": 71,
     "metadata": {},
     "output_type": "execute_result"
    }
   ],
   "source": [
    "pj.view().asMap()"
   ]
  },
  {
   "cell_type": "code",
   "execution_count": 74,
   "id": "506c41c1-4106-4caa-aace-4ef2de8a6a5c",
   "metadata": {},
   "outputs": [
    {
     "data": {
      "text/plain": [
       "layout.Scene({\n",
       "    'aspectmode': 'auto',\n",
       "    'camera': {'center': {'x': 0, 'y': 0, 'z': 0},\n",
       "               'eye': {'x': -0.6029354105932437, 'y': -1.8191235669861696, 'z': 1.007352142345605},\n",
       "               'projection': {'type': 'perspective'},\n",
       "               'up': {'x': 0, 'y': 0, 'z': 1}},\n",
       "    'xaxis': {'range': [-2.0244306549429893, 6.977366112172604]},\n",
       "    'yaxis': {'range': [-1.8134825378656387, 6.758363500237465]},\n",
       "    'zaxis': {'range': [-1.789711482822895, 2.1165115907788277]}\n",
       "})"
      ]
     },
     "execution_count": 74,
     "metadata": {},
     "output_type": "execute_result"
    }
   ],
   "source": [
    "pj.figure().layout.scene"
   ]
  },
  {
   "cell_type": "code",
   "execution_count": 77,
   "id": "0f9802af-0a43-4183-b2fa-40c1b7d71397",
   "metadata": {},
   "outputs": [
    {
     "data": {
      "text/plain": [
       "{'aspectmode': 'auto', 'xaxis': None, 'yaxis': None, 'zaxis': None}"
      ]
     },
     "execution_count": 77,
     "metadata": {},
     "output_type": "execute_result"
    }
   ],
   "source": [
    "View().asMap()"
   ]
  },
  {
   "cell_type": "code",
   "execution_count": null,
   "id": "ab07be9a-7c9b-47a2-a5b3-fbb6957f0c11",
   "metadata": {},
   "outputs": [],
   "source": []
  }
 ],
 "metadata": {
  "kernelspec": {
   "display_name": "rd_tf3",
   "language": "python",
   "name": "rd_tf3"
  },
  "language_info": {
   "codemirror_mode": {
    "name": "ipython",
    "version": 3
   },
   "file_extension": ".py",
   "mimetype": "text/x-python",
   "name": "python",
   "nbconvert_exporter": "python",
   "pygments_lexer": "ipython3",
   "version": "3.9.19"
  }
 },
 "nbformat": 4,
 "nbformat_minor": 5
}
