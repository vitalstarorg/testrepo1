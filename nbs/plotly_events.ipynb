{
 "cells": [
  {
   "cell_type": "code",
   "execution_count": 3,
   "id": "cc35dcd0-efa0-4705-8433-8da3fad0a63a",
   "metadata": {},
   "outputs": [
    {
     "data": {
      "application/vnd.jupyter.widget-view+json": {
       "model_id": "fa0bf874f0be474ab57f4a38c58f4ddb",
       "version_major": 2,
       "version_minor": 0
      },
      "text/plain": [
       "FigureWidget({\n",
       "    'data': [{'mode': 'markers',\n",
       "              'name': 'scatter',\n",
       "              'type': 'scatter',\n",
       "              'uid': '56302dcf-5c93-4f79-93c9-790f7fc3a02d',\n",
       "              'x': [1, 2, 3],\n",
       "              'y': [4, 5, 6]}],\n",
       "    'layout': {'template': '...'}\n",
       "})"
      ]
     },
     "metadata": {},
     "output_type": "display_data"
    },
    {
     "data": {
      "application/vnd.jupyter.widget-view+json": {
       "model_id": "ca877e6b05ee4449882635e89b6dd578",
       "version_major": 2,
       "version_minor": 0
      },
      "text/plain": [
       "Output()"
      ]
     },
     "metadata": {},
     "output_type": "display_data"
    },
    {
     "data": {
      "application/javascript": [
       "\n",
       "// Wait until the window is fully loaded\n",
       "window.onload = function() {\n",
       "    // Use a timeout to ensure the plot is fully rendered before accessing it\n",
       "    setTimeout(function() {\n",
       "        // Find the Plotly graph div element\n",
       "        var plot = document.querySelector('div.plotly-graph-div');\n",
       "        if (plot) {\n",
       "            // Attach the click event listener to the plot\n",
       "            plot.on('plotly_click', function(eventData) {\n",
       "                // Extract click information\n",
       "                var clickData = eventData.points[0];\n",
       "                var clickInfo = `Clicked at x: ${clickData.x}, y: ${clickData.y}`;\n",
       "                \n",
       "                // Listen for key press events globally\n",
       "                document.onkeydown = function(e) {\n",
       "                    // Capture the pressed key\n",
       "                    var key = e.key;\n",
       "                    var message = `Key pressed: ${key} | ${clickInfo}`;\n",
       "                    \n",
       "                    // Check if the kernel is connected\n",
       "                    if (IPython && IPython.notebook && IPython.notebook.kernel) {\n",
       "                        // Send the message back to Python Output widget\n",
       "                        IPython.notebook.kernel.execute(`output.append_stdout(\"${message}\\n\")`);\n",
       "                    } else {\n",
       "                        console.error('Kernel is not connected.');\n",
       "                    }\n",
       "                };\n",
       "            });\n",
       "        } else {\n",
       "            console.error('Plotly graph not found.');\n",
       "        }\n",
       "    }, 500); // Adjust delay as needed\n",
       "};\n"
      ],
      "text/plain": [
       "<IPython.core.display.Javascript object>"
      ]
     },
     "metadata": {},
     "output_type": "display_data"
    }
   ],
   "source": [
    "# https://chatgpt.com/c/66ecbdea-2e34-800f-8fa9-58704c263e0e\n",
    "import plotly.graph_objects as go\n",
    "import ipywidgets as widgets\n",
    "from IPython.display import display, Javascript\n",
    "\n",
    "# Create a Plotly scatter plot\n",
    "scatter = go.Scatter(x=[1, 2, 3], y=[4, 5, 6], mode='markers', name='scatter')\n",
    "fig = go.FigureWidget(data=[scatter])\n",
    "\n",
    "# Create an Output widget to display logs\n",
    "output = widgets.Output()\n",
    "\n",
    "# Display Plotly figure and output widget\n",
    "display(fig, output)\n",
    "\n",
    "# JavaScript code to detect keyboard and mouse click events\n",
    "js_code = \"\"\"\n",
    "// Wait until the window is fully loaded\n",
    "window.onload = function() {\n",
    "    // Use a timeout to ensure the plot is fully rendered before accessing it\n",
    "    setTimeout(function() {\n",
    "        // Find the Plotly graph div element\n",
    "        var plot = document.querySelector('div.plotly-graph-div');\n",
    "        if (plot) {\n",
    "            // Attach the click event listener to the plot\n",
    "            plot.on('plotly_click', function(eventData) {\n",
    "                // Extract click information\n",
    "                var clickData = eventData.points[0];\n",
    "                var clickInfo = `Clicked at x: ${clickData.x}, y: ${clickData.y}`;\n",
    "                \n",
    "                // Listen for key press events globally\n",
    "                document.onkeydown = function(e) {\n",
    "                    // Capture the pressed key\n",
    "                    var key = e.key;\n",
    "                    var message = `Key pressed: ${key} | ${clickInfo}`;\n",
    "                    \n",
    "                    // Check if the kernel is connected\n",
    "                    if (IPython && IPython.notebook && IPython.notebook.kernel) {\n",
    "                        // Send the message back to Python Output widget\n",
    "                        IPython.notebook.kernel.execute(`output.append_stdout(\"${message}\\\\n\")`);\n",
    "                    } else {\n",
    "                        console.error('Kernel is not connected.');\n",
    "                    }\n",
    "                };\n",
    "            });\n",
    "        } else {\n",
    "            console.error('Plotly graph not found.');\n",
    "        }\n",
    "    }, 500); // Adjust delay as needed\n",
    "};\n",
    "\"\"\"\n",
    "\n",
    "# Execute the JavaScript in the notebook\n",
    "display(Javascript(js_code))\n"
   ]
  },
  {
   "cell_type": "code",
   "execution_count": 2,
   "id": "fc270184-4e87-4094-bf14-abfa8addc6cc",
   "metadata": {},
   "outputs": [],
   "source": [
    "output.append_stdout('aa')"
   ]
  },
  {
   "cell_type": "code",
   "execution_count": null,
   "id": "5dc5183c-9657-48a2-a001-89a21f19b649",
   "metadata": {},
   "outputs": [],
   "source": []
  }
 ],
 "metadata": {
  "kernelspec": {
   "display_name": "rd_tf3",
   "language": "python",
   "name": "rd_tf3"
  },
  "language_info": {
   "codemirror_mode": {
    "name": "ipython",
    "version": 3
   },
   "file_extension": ".py",
   "mimetype": "text/x-python",
   "name": "python",
   "nbconvert_exporter": "python",
   "pygments_lexer": "ipython3",
   "version": "3.9.19"
  }
 },
 "nbformat": 4,
 "nbformat_minor": 5
}
