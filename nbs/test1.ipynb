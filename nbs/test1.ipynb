{
 "cells": [
  {
   "cell_type": "code",
   "execution_count": 1,
   "id": "1e18fa2f-bd6d-48ba-9251-14994cc2c820",
   "metadata": {},
   "outputs": [
    {
     "ename": "MultipleInstanceError",
     "evalue": "An incompatible sibling of 'JupyterApp' is already instantiated as singleton: IPKernelApp",
     "output_type": "error",
     "traceback": [
      "\u001b[0;31m---------------------------------------------------------------------------\u001b[0m",
      "\u001b[0;31mMultipleInstanceError\u001b[0m                     Traceback (most recent call last)",
      "Cell \u001b[0;32mIn[1], line 2\u001b[0m\n\u001b[1;32m      1\u001b[0m \u001b[38;5;28;01mfrom\u001b[39;00m \u001b[38;5;21;01mjupyter_core\u001b[39;00m\u001b[38;5;21;01m.\u001b[39;00m\u001b[38;5;21;01mapplication\u001b[39;00m \u001b[38;5;28;01mimport\u001b[39;00m JupyterApp\n\u001b[0;32m----> 2\u001b[0m app \u001b[38;5;241m=\u001b[39m \u001b[43mJupyterApp\u001b[49m\u001b[38;5;241;43m.\u001b[39;49m\u001b[43minstance\u001b[49m\u001b[43m(\u001b[49m\u001b[43m)\u001b[49m\n\u001b[1;32m      3\u001b[0m \u001b[38;5;28mprint\u001b[39m(app\u001b[38;5;241m.\u001b[39mconfig)\n",
      "File \u001b[0;32m~/miniconda3/envs/rd_tf3/lib/python3.9/site-packages/traitlets/config/configurable.py:592\u001b[0m, in \u001b[0;36mSingletonConfigurable.instance\u001b[0;34m(cls, *args, **kwargs)\u001b[0m\n\u001b[1;32m    590\u001b[0m     \u001b[38;5;28;01mreturn\u001b[39;00m \u001b[38;5;28mcls\u001b[39m\u001b[38;5;241m.\u001b[39m_instance\n\u001b[1;32m    591\u001b[0m \u001b[38;5;28;01melse\u001b[39;00m:\n\u001b[0;32m--> 592\u001b[0m     \u001b[38;5;28;01mraise\u001b[39;00m MultipleInstanceError(\n\u001b[1;32m    593\u001b[0m         \u001b[38;5;124mf\u001b[39m\u001b[38;5;124m\"\u001b[39m\u001b[38;5;124mAn incompatible sibling of \u001b[39m\u001b[38;5;124m'\u001b[39m\u001b[38;5;132;01m{\u001b[39;00m\u001b[38;5;28mcls\u001b[39m\u001b[38;5;241m.\u001b[39m\u001b[38;5;18m__name__\u001b[39m\u001b[38;5;132;01m}\u001b[39;00m\u001b[38;5;124m'\u001b[39m\u001b[38;5;124m is already instantiated\u001b[39m\u001b[38;5;124m\"\u001b[39m\n\u001b[1;32m    594\u001b[0m         \u001b[38;5;124mf\u001b[39m\u001b[38;5;124m\"\u001b[39m\u001b[38;5;124m as singleton: \u001b[39m\u001b[38;5;132;01m{\u001b[39;00m\u001b[38;5;28mtype\u001b[39m(\u001b[38;5;28mcls\u001b[39m\u001b[38;5;241m.\u001b[39m_instance)\u001b[38;5;241m.\u001b[39m\u001b[38;5;18m__name__\u001b[39m\u001b[38;5;132;01m}\u001b[39;00m\u001b[38;5;124m\"\u001b[39m\n\u001b[1;32m    595\u001b[0m     )\n",
      "\u001b[0;31mMultipleInstanceError\u001b[0m: An incompatible sibling of 'JupyterApp' is already instantiated as singleton: IPKernelApp"
     ]
    }
   ],
   "source": [
    "from jupyter_core.application import JupyterApp\n",
    "app = JupyterApp.instance()\n",
    "print(app.config)\n"
   ]
  },
  {
   "cell_type": "code",
   "execution_count": null,
   "id": "92e7d776-ac4f-489f-abd7-9b6e5f6b9261",
   "metadata": {},
   "outputs": [],
   "source": [
    "from jupyter_core.application import JupyterApp\n",
    "from jupyter_client import KernelManager\n",
    "\n",
    "# Display the current configuration for the KernelManager\n",
    "km = KernelManager()\n",
    "print(km.get_config())\n"
   ]
  },
  {
   "cell_type": "code",
   "execution_count": 7,
   "id": "38142705-a63d-4aea-9e7a-e97a3a803b7c",
   "metadata": {},
   "outputs": [
    {
     "data": {
      "text/plain": [
       "<LazyConfigValue {}>"
      ]
     },
     "execution_count": 7,
     "metadata": {},
     "output_type": "execute_result"
    }
   ],
   "source": [
    "km.config['getdoc']"
   ]
  },
  {
   "cell_type": "code",
   "execution_count": 13,
   "id": "4288ab78-17d2-4d11-99e7-f88fc6065e8f",
   "metadata": {},
   "outputs": [
    {
     "data": {
      "text/plain": [
       "traitlets.Undefined"
      ]
     },
     "execution_count": 13,
     "metadata": {},
     "output_type": "execute_result"
    }
   ],
   "source": [
    "JupyterApp.config."
   ]
  },
  {
   "cell_type": "code",
   "execution_count": 18,
   "id": "0d712e17-27c7-4d46-aaa7-cccf1c45ad81",
   "metadata": {
    "editable": true,
    "slideshow": {
     "slide_type": ""
    },
    "tags": []
   },
   "outputs": [
    {
     "data": {
      "text/plain": [
       "{'IPKernelApp': {'connection_file': '/Users/man/Library/Jupyter/runtime/kernel-fa11fd0a-a0d4-41de-a0ba-6470911780fc.json'},\n",
       " 'getdoc': <LazyConfigValue {}>}"
      ]
     },
     "execution_count": 18,
     "metadata": {},
     "output_type": "execute_result"
    }
   ],
   "source": [
    "JupyterApp._instance.config"
   ]
  },
  {
   "cell_type": "code",
   "execution_count": null,
   "id": "c04f5f02-dbb1-44c5-a45c-2c5fc9a294a9",
   "metadata": {},
   "outputs": [],
   "source": []
  }
 ],
 "metadata": {
  "kernelspec": {
   "display_name": "rd_tf3",
   "language": "python",
   "name": "rd_tf3"
  },
  "language_info": {
   "codemirror_mode": {
    "name": "ipython",
    "version": 3
   },
   "file_extension": ".py",
   "mimetype": "text/x-python",
   "name": "python",
   "nbconvert_exporter": "python",
   "pygments_lexer": "ipython3",
   "version": "3.9.19"
  }
 },
 "nbformat": 4,
 "nbformat_minor": 5
}
